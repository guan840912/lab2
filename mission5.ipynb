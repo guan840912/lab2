{
 "cells": [
  {
   "cell_type": "code",
   "execution_count": 22,
   "metadata": {},
   "outputs": [
    {
     "name": "stdout",
     "output_type": "stream",
     "text": [
      "\n",
      "The following command must be run outside of the IPython shell:\n",
      "\n",
      "    $ pip install -vvv requests \n",
      "\n",
      "The Python package manager (pip) can only be used from outside of IPython.\n",
      "Please reissue the `pip` command in a separate terminal or command prompt.\n",
      "\n",
      "See the Python documentation for more information on how to install packages:\n",
      "\n",
      "    https://docs.python.org/3/installing/\n"
     ]
    }
   ],
   "source": []
  },
  {
   "cell_type": "code",
   "execution_count": 24,
   "metadata": {},
   "outputs": [],
   "source": [
    "#引入套件\n",
    "import requests\n",
    "import os\n",
    "import shutil\n",
    "import datetime\n",
    "#使用get方法到https://jsonplaceholder.typicode.com/users 取得資料\n",
    "responseFromRemote = requests.get('https://jsonplaceholder.typicode.com/users')\n",
    "\n",
    "# 有時我們想看response的body內容\n",
    "#print(responseFromRemote.text)\n",
    "\n",
    "# 若已經能預期傳回的內容為json格式，則可以直接將其轉為python可操作的資料格式\n",
    "a = responseFromRemote.json()\n",
    "#print(responseFromRemote.json())\n",
    "\n",
    "#取得時間變數\n",
    "nowTime = datetime.datetime.utcnow().strftime(\"%Y-%m-%d\")\n",
    "#開啟新檔案 引用時間變數當作檔案名稱\n",
    "abc = open(nowTime+'.txt','w')\n",
    " # 將資料寫入檔案\n",
    "abc.write(str(a[2]))\n",
    "abc.write(str(a[3]))\n",
    "abc.write(str(a[4]))\n",
    "abc.write(str(a[5]))\n",
    "# 將檔案關閉\n",
    "abc.close()"
   ]
  },
  {
   "cell_type": "code",
   "execution_count": null,
   "metadata": {},
   "outputs": [],
   "source": []
  }
 ],
 "metadata": {
  "kernelspec": {
   "display_name": "Python 3",
   "language": "python",
   "name": "python3"
  },
  "language_info": {
   "codemirror_mode": {
    "name": "ipython",
    "version": 3
   },
   "file_extension": ".py",
   "mimetype": "text/x-python",
   "name": "python",
   "nbconvert_exporter": "python",
   "pygments_lexer": "ipython3",
   "version": "3.7.1"
  }
 },
 "nbformat": 4,
 "nbformat_minor": 2
}
