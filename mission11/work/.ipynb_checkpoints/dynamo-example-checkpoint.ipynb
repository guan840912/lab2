{
 "cells": [
  {
   "cell_type": "code",
   "execution_count": 66,
   "metadata": {},
   "outputs": [
    {
     "name": "stdout",
     "output_type": "stream",
     "text": [
      "Requirement already satisfied: boto3 in /opt/conda/lib/python3.7/site-packages (1.9.73)\n",
      "Requirement already satisfied: botocore<1.13.0,>=1.12.73 in /opt/conda/lib/python3.7/site-packages (from boto3) (1.12.73)\n",
      "Requirement already satisfied: s3transfer<0.2.0,>=0.1.10 in /opt/conda/lib/python3.7/site-packages (from boto3) (0.1.13)\n",
      "Requirement already satisfied: jmespath<1.0.0,>=0.7.1 in /opt/conda/lib/python3.7/site-packages (from boto3) (0.9.3)\n",
      "Requirement already satisfied: urllib3<1.25,>=1.20; python_version >= \"3.4\" in /opt/conda/lib/python3.7/site-packages (from botocore<1.13.0,>=1.12.73->boto3) (1.24.1)\n",
      "Requirement already satisfied: docutils>=0.10 in /opt/conda/lib/python3.7/site-packages (from botocore<1.13.0,>=1.12.73->boto3) (0.14)\n",
      "Requirement already satisfied: python-dateutil<3.0.0,>=2.1; python_version >= \"2.7\" in /opt/conda/lib/python3.7/site-packages (from botocore<1.13.0,>=1.12.73->boto3) (2.7.5)\n",
      "Requirement already satisfied: six>=1.5 in /opt/conda/lib/python3.7/site-packages (from python-dateutil<3.0.0,>=2.1; python_version >= \"2.7\"->botocore<1.13.0,>=1.12.73->boto3) (1.12.0)\n"
     ]
    }
   ],
   "source": [
    "!pip install boto3"
   ]
  },
  {
   "cell_type": "code",
   "execution_count": 10,
   "metadata": {},
   "outputs": [],
   "source": [
    "#引用套件\n",
    "import boto3\n",
    "\n",
    "dynamodb = boto3.resource(\n",
    "\n",
    "    'dynamodb',\n",
    "\n",
    "    endpoint_url='http://192.168.254.100:8000',   #連線網址192.168.254.100:8000 虛機ip位址，在虛機內開8\n",
    "\n",
    "    region_name='dummy_region',                   #區域名稱 選用虛擬區域\n",
    "\n",
    "    aws_access_key_id='dummy_access_key',         #aws進入鑰匙id選用虛擬進入key\n",
    "\n",
    "    aws_secret_access_key='dummy_secret_key',     #aws私鑰選用虛擬私鑰進去\n",
    "\n",
    "    verify=False)                                 #是否去认证ssl证书，默认SSL证书需要认证，設定verify=False不去认证SSL证书的有效性\n"
   ]
  },
  {
   "cell_type": "code",
   "execution_count": 67,
   "metadata": {},
   "outputs": [
    {
     "name": "stdout",
     "output_type": "stream",
     "text": [
      "0\n"
     ]
    }
   ],
   "source": [
    "import boto3\n",
    "#創建table\n",
    "create_table = dynamodb.create_table(\n",
    "    TableName='cc104',\n",
    "       KeySchema=[\n",
    "        {\n",
    "            'AttributeName': 'username',\n",
    "            'KeyType': 'HASH'   #主key\n",
    "        },\n",
    "        {\n",
    "            'AttributeName': 'last_name',\n",
    "            'KeyType': 'RANGE' #sortkey\n",
    "        }\n",
    "    ],\n",
    "    AttributeDefinitions=[\n",
    "        {\n",
    "            'AttributeName': 'username',\n",
    "            'AttributeType': 'S'\n",
    "        },\n",
    "        {\n",
    "            'AttributeName': 'last_name',\n",
    "            'AttributeType': 'S'\n",
    "        },\n",
    "    ],\n",
    "    ProvisionedThroughput={\n",
    "        'ReadCapacityUnits': 50,\n",
    "        'WriteCapacityUnits': 50\n",
    "    }\n",
    ")\n",
    "#等待binghongtable 創建好 \n",
    "create_table.meta.client.get_waiter('table_exists').wait(TableName='cc104')\n",
    "\n",
    "# 計算cc104 table的物件數\n",
    "\n",
    "print(create_table.item_count)\n"
   ]
  },
  {
   "cell_type": "code",
   "execution_count": 68,
   "metadata": {},
   "outputs": [
    {
     "name": "stdout",
     "output_type": "stream",
     "text": [
      "cc104\n"
     ]
    }
   ],
   "source": [
    "print(create_table.name)"
   ]
  },
  {
   "cell_type": "code",
   "execution_count": 69,
   "metadata": {},
   "outputs": [
    {
     "name": "stdout",
     "output_type": "stream",
     "text": [
      "beforeput: 0\n",
      "afterput: 1\n"
     ]
    }
   ],
   "source": [
    " dynamodb2 = boto3.resource(\n",
    "\n",
    "    'dynamodb',\n",
    "\n",
    "    endpoint_url='http://192.168.254.100:8000',   #連線網址192.168.254.100:8000 虛機ip位址，在虛機內開8\n",
    "\n",
    "    region_name='dummy_region',                   #區域名稱 選用虛擬區域\n",
    "\n",
    "    aws_access_key_id='dummy_access_key',         #aws進入鑰匙id選用虛擬進入key\n",
    "\n",
    "    aws_secret_access_key='dummy_secret_key',     #aws私鑰選用虛擬私鑰進去\n",
    "\n",
    "    verify=False)    \n",
    "table = dynamodb2.Table('cc104')\n",
    "\n",
    "print('beforeput:', table.item_count)\n",
    "\n",
    "table.put_item(\n",
    "     Item={\n",
    "        'username': 'apple',\n",
    "        'last_name': 'banana',\n",
    "        'age': 30,\n",
    "        'account_type': 'standard_user'\n",
    "         }\n",
    "            )\n",
    "\n",
    "print('afterput:', table.item_count)"
   ]
  },
  {
   "cell_type": "code",
   "execution_count": 71,
   "metadata": {},
   "outputs": [
    {
     "name": "stdout",
     "output_type": "stream",
     "text": [
      "{'last_name': 'banana', 'account_type': 'standard_user', 'age': Decimal('30'), 'username': 'apple'}\n"
     ]
    }
   ],
   "source": [
    "reeponse = table.get_item(\n",
    "        Key={\n",
    "            'username': 'apple',\n",
    "            'last_name': 'banana'\n",
    "        }\n",
    ")\n",
    "item = reeponse['Item']\n",
    "print(item)"
   ]
  },
  {
   "cell_type": "code",
   "execution_count": 73,
   "metadata": {},
   "outputs": [
    {
     "name": "stdout",
     "output_type": "stream",
     "text": [
      "{'last_name': 'banana', 'account_type': 'standard_user', 'age': Decimal('60'), 'username': 'apple'}\n"
     ]
    }
   ],
   "source": [
    "#更新物件\n",
    "table.update_item(\n",
    "     Key={\n",
    "        'username': 'apple',\n",
    "        'last_name': 'banana'\n",
    "     },\n",
    "     UpdateExpression='SET age = :val1',  #更新表達式\n",
    "\n",
    "     ExpressionAttributeValues={          #表達式屬性值\n",
    "\n",
    "        ':val1': 60\n",
    "    }\n",
    "            )\n",
    "\n",
    "reeponse = table.get_item(\n",
    "        Key={\n",
    "            'username': 'apple',\n",
    "            'last_name': 'banana'\n",
    "        }\n",
    ")\n",
    "item = reeponse['Item']\n",
    "print(item)"
   ]
  },
  {
   "cell_type": "code",
   "execution_count": 74,
   "metadata": {},
   "outputs": [
    {
     "name": "stdout",
     "output_type": "stream",
     "text": [
      "beforedelete: 1\n",
      "afterdelete: 0\n"
     ]
    }
   ],
   "source": [
    "#刪除物件\n",
    "print('beforedelete:', table.item_count)\n",
    "table.delete_item(\n",
    "    Key={\n",
    "        'username': 'apple',\n",
    "        'last_name': 'banana'\n",
    "    }\n",
    ")\n",
    "print('afterdelete:', table.item_count)"
   ]
  },
  {
   "cell_type": "code",
   "execution_count": null,
   "metadata": {},
   "outputs": [],
   "source": []
  }
 ],
 "metadata": {
  "kernelspec": {
   "display_name": "Python 3",
   "language": "python",
   "name": "python3"
  },
  "language_info": {
   "codemirror_mode": {
    "name": "ipython",
    "version": 3
   },
   "file_extension": ".py",
   "mimetype": "text/x-python",
   "name": "python",
   "nbconvert_exporter": "python",
   "pygments_lexer": "ipython3",
   "version": "3.7.1"
  }
 },
 "nbformat": 4,
 "nbformat_minor": 2
}
