{
 "cells": [
  {
   "cell_type": "code",
   "execution_count": 1,
   "metadata": {},
   "outputs": [
    {
     "name": "stdout",
     "output_type": "stream",
     "text": [
      "Requirement already satisfied: PyMysql in /opt/conda/lib/python3.7/site-packages (0.9.3)\r\n"
     ]
    }
   ],
   "source": [
    "!pip install PyMysql"
   ]
  },
  {
   "cell_type": "code",
   "execution_count": 7,
   "metadata": {},
   "outputs": [],
   "source": [
    "#導入pymysql套件\n",
    "import pymysql\n",
    "# 連接database\n",
    "conn = pymysql.connect(host=\"192.168.254.100\", user=\"root\",password=\"iii\",database=\"mysql\",charset=\"utf8\")\n",
    "# 得到一個可以執行SQL語句的光標對象\n",
    "cursor = conn.cursor()\n",
    "# 定義要執行的SQL語句\n",
    "#創建TABLE 名為USER\n",
    "#TABLE內容有id欄(自行產生)，name欄(長度限制為10字元，不可空),\n",
    "#age欄(从 0 到 255 的整型数据。存储大小为 1 字节，不可空<人應該不會超過255歲吧 ?)。\n",
    "sql = \"\"\"\n",
    "CREATE TABLE USER (\n",
    "id INT auto_increment PRIMARY KEY ,\n",
    "name CHAR(10) NOT NULL UNIQUE,\n",
    "age TINYINT NOT NULL\n",
    ")ENGINE=innodb DEFAULT CHARSET=utf8;\n",
    "\"\"\"\n",
    "#ENGINE=innodb DEFAULT CHARSET=utf8\n",
    "#查詢mysql支援的儲存引擎用 InnoDB 其支援transactions \n",
    "# 執行SQL語句\n",
    "cursor.execute(sql)\n",
    "# 關閉對象\n",
    "cursor.close()\n",
    "# 關閉資料庫連接\n",
    "conn.close()"
   ]
  },
  {
   "cell_type": "code",
   "execution_count": 8,
   "metadata": {},
   "outputs": [],
   "source": [
    "#插入資料\n",
    "# 引入pymysql套件\n",
    "import pymysql\n",
    "# 連接database\n",
    "conn = pymysql.connect(host=\"192.168.254.100\", user=\"root\",password=\"iii\",database=\"mysql\",charset=\"utf8\")\n",
    "# 得到一個可以執行SQL語句的對象\n",
    "cursor = conn.cursor()\n",
    "sql = \"INSERT INTO USER(name, age) VALUES (%s, %s);\"\n",
    "name = \"Guanyebo\"\n",
    "age = 23\n",
    "# 執行SQL語句\n",
    "cursor.execute(sql, [name, age])\n",
    "# 提交事務\n",
    "conn.commit()\n",
    "cursor.close()\n",
    "conn.close()"
   ]
  },
  {
   "cell_type": "code",
   "execution_count": 9,
   "metadata": {},
   "outputs": [
    {
     "name": "stdout",
     "output_type": "stream",
     "text": [
      "id name age\n",
      "1 Guanyebo 23\n"
     ]
    }
   ],
   "source": [
    "#查詢資料\n",
    "# 引入pymysql套件\n",
    "import pymysql\n",
    "# 連接database\n",
    "conn = pymysql.connect(host=\"192.168.254.100\", user=\"root\",password=\"iii\",database=\"mysql\",charset=\"utf8\")\n",
    "# 得到一個可以執行SQL語句的對象\n",
    "cur = conn.cursor()\n",
    "#1.查詢操作  \n",
    "# 編寫sql 查詢語句  user 對應我的TABLE名  \n",
    "sql = \"SELECT * FROM USER\"\n",
    "try:  \n",
    "    cur.execute(sql)    #執行sql語句  \n",
    "  \n",
    "    results = cur.fetchall()    #獲取查詢的所有記錄  \n",
    "    print(\"id\",\"name\",\"age\")  \n",
    "    #遍歷結果  \n",
    "    for row in results :  \n",
    "        id = row[0]  \n",
    "        name = row[1]  \n",
    "        age = row[2]  \n",
    "        print(id,name,age)  \n",
    "except Exception as e:  \n",
    "    raise e  \n",
    "finally:  \n",
    "    conn.close()  #關閉連接  "
   ]
  },
  {
   "cell_type": "code",
   "execution_count": null,
   "metadata": {},
   "outputs": [],
   "source": []
  }
 ],
 "metadata": {
  "kernelspec": {
   "display_name": "Python 3",
   "language": "python",
   "name": "python3"
  },
  "language_info": {
   "codemirror_mode": {
    "name": "ipython",
    "version": 3
   },
   "file_extension": ".py",
   "mimetype": "text/x-python",
   "name": "python",
   "nbconvert_exporter": "python",
   "pygments_lexer": "ipython3",
   "version": "3.7.1"
  }
 },
 "nbformat": 4,
 "nbformat_minor": 2
}
