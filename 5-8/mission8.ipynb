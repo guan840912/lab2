{
 "cells": [
  {
   "cell_type": "code",
   "execution_count": null,
   "metadata": {},
   "outputs": [
    {
     "name": "stdout",
     "output_type": "stream",
     "text": [
      "Requirement already satisfied: flask in c:\\python37-32\\lib\\site-packages (1.0.2)\n",
      "Requirement already satisfied: Werkzeug>=0.14 in c:\\python37-32\\lib\\site-packages (from flask) (0.14.1)\n",
      "Requirement already satisfied: itsdangerous>=0.24 in c:\\python37-32\\lib\\site-packages (from flask) (1.1.0)\n",
      "Requirement already satisfied: click>=5.1 in c:\\python37-32\\lib\\site-packages (from flask) (7.0)\n",
      "Requirement already satisfied: Jinja2>=2.10 in c:\\python37-32\\lib\\site-packages (from flask) (2.10)\n",
      "Requirement already satisfied: MarkupSafe>=0.23 in c:\\python37-32\\lib\\site-packages (from Jinja2>=2.10->flask) (1.1.0)\n"
     ]
    }
   ],
   "source": [
    "!pip install flask\n",
    "!pip install boto3"
   ]
  },
  {
   "cell_type": "code",
   "execution_count": null,
   "metadata": {},
   "outputs": [
    {
     "name": "stdout",
     "output_type": "stream",
     "text": [
      " * Serving Flask app \"__main__\" (lazy loading)\n",
      " * Environment: production\n",
      "   WARNING: Do not use the development server in a production environment.\n",
      "   Use a production WSGI server instead.\n",
      " * Debug mode: off\n"
     ]
    },
    {
     "name": "stderr",
     "output_type": "stream",
     "text": [
      " * Running on http://0.0.0.0:5000/ (Press CTRL+C to quit)\n",
      "[2018-12-27 02:11:48,212] ERROR in app: Exception on / [GET]\n",
      "Traceback (most recent call last):\n",
      "  File \"c:\\python37-32\\lib\\site-packages\\flask\\app.py\", line 1974, in make_response\n",
      "    rv = self.response_class.force_type(rv, request.environ)\n",
      "  File \"c:\\python37-32\\lib\\site-packages\\werkzeug\\wrappers.py\", line 921, in force_type\n",
      "    response = BaseResponse(*_run_wsgi_app(response, environ))\n",
      "  File \"c:\\python37-32\\lib\\site-packages\\werkzeug\\wrappers.py\", line 59, in _run_wsgi_app\n",
      "    return _run_wsgi_app(*args)\n",
      "  File \"c:\\python37-32\\lib\\site-packages\\werkzeug\\test.py\", line 923, in run_wsgi_app\n",
      "    app_rv = app(environ, start_response)\n",
      "TypeError: 'dict' object is not callable\n",
      "\n",
      "During handling of the above exception, another exception occurred:\n",
      "\n",
      "Traceback (most recent call last):\n",
      "  File \"c:\\python37-32\\lib\\site-packages\\flask\\app.py\", line 2292, in wsgi_app\n",
      "    response = self.full_dispatch_request()\n",
      "  File \"c:\\python37-32\\lib\\site-packages\\flask\\app.py\", line 1816, in full_dispatch_request\n",
      "    return self.finalize_request(rv)\n",
      "  File \"c:\\python37-32\\lib\\site-packages\\flask\\app.py\", line 1831, in finalize_request\n",
      "    response = self.make_response(rv)\n",
      "  File \"c:\\python37-32\\lib\\site-packages\\flask\\app.py\", line 1982, in make_response\n",
      "    reraise(TypeError, new_error, sys.exc_info()[2])\n",
      "  File \"c:\\python37-32\\lib\\site-packages\\flask\\_compat.py\", line 34, in reraise\n",
      "    raise value.with_traceback(tb)\n",
      "  File \"c:\\python37-32\\lib\\site-packages\\flask\\app.py\", line 1974, in make_response\n",
      "    rv = self.response_class.force_type(rv, request.environ)\n",
      "  File \"c:\\python37-32\\lib\\site-packages\\werkzeug\\wrappers.py\", line 921, in force_type\n",
      "    response = BaseResponse(*_run_wsgi_app(response, environ))\n",
      "  File \"c:\\python37-32\\lib\\site-packages\\werkzeug\\wrappers.py\", line 59, in _run_wsgi_app\n",
      "    return _run_wsgi_app(*args)\n",
      "  File \"c:\\python37-32\\lib\\site-packages\\werkzeug\\test.py\", line 923, in run_wsgi_app\n",
      "    app_rv = app(environ, start_response)\n",
      "TypeError: 'dict' object is not callable\n",
      "The view function did not return a valid response. The return type must be a string, tuple, Response instance, or WSGI callable, but it was a dict.\n",
      "192.168.50.195 - - [27/Dec/2018 02:11:48] \"GET / HTTP/1.1\" 500 -\n",
      "192.168.50.195 - - [27/Dec/2018 02:11:53] \"POST / HTTP/1.1\" 200 -\n"
     ]
    }
   ],
   "source": [
    "\"\"\"\n",
    "flask simple post\n",
    "用戶可以對Server丟post，\n",
    "Server會找出 欄位為nickname的值進行操作\n",
    "\n",
    "\"\"\"\n",
    "#引用套件\n",
    "\n",
    "import boto3\n",
    "import json\n",
    "from pprint import pprint\n",
    "\n",
    "from flask import Flask, request, abort, jsonify\n",
    "#flask這個應用的啟動點\n",
    "app = Flask(__name__,static_url_path = \"/images\" , static_folder = \"./images/\" )\n",
    "#為這個啟動點增加訪問路徑'/' ,使用post方法訪問\n",
    "@app.route('/',methods=['POST'])\n",
    "def hello_world():\n",
    "    t =request.get_json()\n",
    "    \n",
    "   #取得用戶json的nickname,並且組成{'nickname':'xxxxxx'}\n",
    "    jsonDict = {'wizard':t.get('nickname','little apple')}\n",
    "     #把結果轉成json,並回傳給用戶\n",
    "    aaa= jsonify(jsonDict)\n",
    "    return jsonify(jsonDict)\n",
    "\n",
    "@app.route('/',methods=['GET'])\n",
    "def hello_world2():\n",
    "#回傳{'userId':1,'userName':'xiaoming'}給訪問者\n",
    "    t2 = {'userId':1,'userName':'xiaoming'}\n",
    "    return t2\n",
    "\n",
    "if __name__ == \"__main__\":\n",
    "    \n",
    "    app.run(host='0.0.0.0')\n",
    "#訪問192.168.50.195:5000"
   ]
  },
  {
   "cell_type": "code",
   "execution_count": null,
   "metadata": {},
   "outputs": [],
   "source": [
    "import os\n",
    "import shutil\n",
    "import requests\n",
    "responseFromRemote = requests.get('https://192.168.50.195:5000/')\n",
    "print(responseFromRemote.text)\n",
    "\n",
    "#print(str(jsonDict))\n",
    "#abc = open('body.txt','w')\n",
    " # 將資料寫入檔案\n",
    "#abc.write(str(jsonDict))\n",
    "\n",
    "# 將檔案關閉\n",
    "#abc.close()\n",
    "\n",
    "    \n",
    "#s3resource = boto3.resource('s3')\n",
    "#使用s3客戶端上傳檔案(step1-s3-demo.txt)到s3的butket(iii-tutorial-v2下的student裡)裡\n",
    "#uploadObject = s3resource.Object('iii-tutorial-v2', 'student9/body.txt').put(Body=open('./body.txt', 'rb'))\n",
    "#pprint(uploadObject)"
   ]
  },
  {
   "cell_type": "code",
   "execution_count": null,
   "metadata": {},
   "outputs": [],
   "source": []
  },
  {
   "cell_type": "code",
   "execution_count": null,
   "metadata": {},
   "outputs": [],
   "source": []
  }
 ],
 "metadata": {
  "kernelspec": {
   "display_name": "Python 3",
   "language": "python",
   "name": "python3"
  },
  "language_info": {
   "codemirror_mode": {
    "name": "ipython",
    "version": 3
   },
   "file_extension": ".py",
   "mimetype": "text/x-python",
   "name": "python",
   "nbconvert_exporter": "python",
   "pygments_lexer": "ipython3",
   "version": "3.7.1"
  }
 },
 "nbformat": 4,
 "nbformat_minor": 2
}
