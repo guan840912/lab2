{
 "cells": [
  {
   "cell_type": "code",
   "execution_count": 17,
   "metadata": {},
   "outputs": [],
   "source": [
    "\n",
    "#引入\n",
    "import os\n",
    "import shutil\n",
    "import json\n",
    "#新增一個json\n",
    "data={\n",
    "        \"string\":\"a\",\n",
    "        \"number\":123,\n",
    "        \"array\":[5,6,7,8],\n",
    "        \"object\":{\"abc\":123,\"just\":\"kidding\"}\n",
    "        \n",
    "}\n",
    "#打開名稱為 json.txt的檔案\n",
    "abc = open('json.txt','w')\n",
    "#寫入剛剛的json(先將json格式轉成字串寫入檔案)\n",
    "abc.write(json.dumps(data))\n",
    "#關閉檔案\n",
    "abc.close()\n"
   ]
  },
  {
   "cell_type": "code",
   "execution_count": 18,
   "metadata": {},
   "outputs": [],
   "source": [
    "import os\n",
    "import shutil\n",
    "import json\n",
    "from pprint import pprint\n",
    "#開啟json.txt 檔案\n",
    "openj = open('./json.txt','r')\n",
    "#載入json變數\n",
    "json2 =json.load(openj)\n",
    "#關閉json.txt 檔案\n",
    "openj.close()\n",
    "#從新定義\n",
    "json2[\"string\"]=\"aaa\"\n",
    "json2[\"number\"]=8888888350\n",
    "json2[\"object\"]={\"abc\":33355500,\"just\":\"kidding333555000\"}\n",
    "json2[\"array\"]=[35,3506,3507,3508]\n",
    "#開啟json.txt 檔案\n",
    "ccc2 = open('./json.txt','w')\n",
    "#載入json2變數\n",
    "ccc2.write(json.dumps(json2))\n",
    "#關閉json.txt 檔案\n",
    "ccc2.close()"
   ]
  },
  {
   "cell_type": "code",
   "execution_count": null,
   "metadata": {},
   "outputs": [],
   "source": []
  },
  {
   "cell_type": "code",
   "execution_count": null,
   "metadata": {},
   "outputs": [],
   "source": []
  }
 ],
 "metadata": {
  "kernelspec": {
   "display_name": "Python 3",
   "language": "python",
   "name": "python3"
  },
  "language_info": {
   "codemirror_mode": {
    "name": "ipython",
    "version": 3
   },
   "file_extension": ".py",
   "mimetype": "text/x-python",
   "name": "python",
   "nbconvert_exporter": "python",
   "pygments_lexer": "ipython3",
   "version": "3.7.1"
  }
 },
 "nbformat": 4,
 "nbformat_minor": 2
}
