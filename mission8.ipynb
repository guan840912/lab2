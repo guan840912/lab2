{
 "cells": [
  {
   "cell_type": "code",
   "execution_count": 2,
   "metadata": {},
   "outputs": [
    {
     "name": "stdout",
     "output_type": "stream",
     "text": [
      "Requirement already satisfied: flask in /opt/conda/lib/python3.7/site-packages (1.0.2)\n",
      "Requirement already satisfied: Werkzeug>=0.14 in /opt/conda/lib/python3.7/site-packages (from flask) (0.14.1)\n",
      "Requirement already satisfied: click>=5.1 in /opt/conda/lib/python3.7/site-packages (from flask) (7.0)\n",
      "Requirement already satisfied: itsdangerous>=0.24 in /opt/conda/lib/python3.7/site-packages (from flask) (1.1.0)\n",
      "Requirement already satisfied: Jinja2>=2.10 in /opt/conda/lib/python3.7/site-packages (from flask) (2.10)\n",
      "Requirement already satisfied: MarkupSafe>=0.23 in /opt/conda/lib/python3.7/site-packages (from Jinja2>=2.10->flask) (1.1.0)\n",
      "Requirement already satisfied: boto3 in /opt/conda/lib/python3.7/site-packages (1.9.75)\n",
      "Requirement already satisfied: s3transfer<0.2.0,>=0.1.10 in /opt/conda/lib/python3.7/site-packages (from boto3) (0.1.13)\n",
      "Requirement already satisfied: botocore<1.13.0,>=1.12.75 in /opt/conda/lib/python3.7/site-packages (from boto3) (1.12.75)\n",
      "Requirement already satisfied: jmespath<1.0.0,>=0.7.1 in /opt/conda/lib/python3.7/site-packages (from boto3) (0.9.3)\n",
      "Requirement already satisfied: python-dateutil<3.0.0,>=2.1; python_version >= \"2.7\" in /opt/conda/lib/python3.7/site-packages (from botocore<1.13.0,>=1.12.75->boto3) (2.7.5)\n",
      "Requirement already satisfied: urllib3<1.25,>=1.20; python_version >= \"3.4\" in /opt/conda/lib/python3.7/site-packages (from botocore<1.13.0,>=1.12.75->boto3) (1.24.1)\n",
      "Requirement already satisfied: docutils>=0.10 in /opt/conda/lib/python3.7/site-packages (from botocore<1.13.0,>=1.12.75->boto3) (0.14)\n",
      "Requirement already satisfied: six>=1.5 in /opt/conda/lib/python3.7/site-packages (from python-dateutil<3.0.0,>=2.1; python_version >= \"2.7\"->botocore<1.13.0,>=1.12.75->boto3) (1.12.0)\n",
      "Requirement already satisfied: boto3 in /opt/conda/lib/python3.7/site-packages (1.9.75)\n",
      "Requirement already satisfied: awscli in /opt/conda/lib/python3.7/site-packages (1.16.85)\n",
      "Requirement already satisfied: botocore<1.13.0,>=1.12.75 in /opt/conda/lib/python3.7/site-packages (from boto3) (1.12.75)\n",
      "Requirement already satisfied: jmespath<1.0.0,>=0.7.1 in /opt/conda/lib/python3.7/site-packages (from boto3) (0.9.3)\n",
      "Requirement already satisfied: s3transfer<0.2.0,>=0.1.10 in /opt/conda/lib/python3.7/site-packages (from boto3) (0.1.13)\n",
      "Requirement already satisfied: docutils>=0.10 in /opt/conda/lib/python3.7/site-packages (from awscli) (0.14)\n",
      "Requirement already satisfied: PyYAML<=3.13,>=3.10 in /opt/conda/lib/python3.7/site-packages (from awscli) (3.13)\n",
      "Requirement already satisfied: colorama<=0.3.9,>=0.2.5 in /opt/conda/lib/python3.7/site-packages (from awscli) (0.3.9)\n",
      "Requirement already satisfied: rsa<=3.5.0,>=3.1.2 in /opt/conda/lib/python3.7/site-packages (from awscli) (3.4.2)\n",
      "Requirement already satisfied: python-dateutil<3.0.0,>=2.1; python_version >= \"2.7\" in /opt/conda/lib/python3.7/site-packages (from botocore<1.13.0,>=1.12.75->boto3) (2.7.5)\n",
      "Requirement already satisfied: urllib3<1.25,>=1.20; python_version >= \"3.4\" in /opt/conda/lib/python3.7/site-packages (from botocore<1.13.0,>=1.12.75->boto3) (1.24.1)\n",
      "Requirement already satisfied: pyasn1>=0.1.3 in /opt/conda/lib/python3.7/site-packages (from rsa<=3.5.0,>=3.1.2->awscli) (0.4.5)\n",
      "Requirement already satisfied: six>=1.5 in /opt/conda/lib/python3.7/site-packages (from python-dateutil<3.0.0,>=2.1; python_version >= \"2.7\"->botocore<1.13.0,>=1.12.75->boto3) (1.12.0)\n"
     ]
    }
   ],
   "source": [
    "# 安裝flask套件\n",
    "!pip install flask\n",
    "!pip install boto3\n",
    "!pip install boto3 awscli"
   ]
  },
  {
   "cell_type": "code",
   "execution_count": 1,
   "metadata": {},
   "outputs": [
    {
     "name": "stdout",
     "output_type": "stream",
     "text": [
      " * Serving Flask app \"__main__\" (lazy loading)\n",
      " * Environment: production\n",
      "   WARNING: Do not use the development server in a production environment.\n",
      "   Use a production WSGI server instead.\n",
      " * Debug mode: off\n"
     ]
    },
    {
     "name": "stderr",
     "output_type": "stream",
     "text": [
      " * Running on http://0.0.0.0:5000/ (Press CTRL+C to quit)\n",
      "192.168.254.1 - - [08/Jan/2019 09:39:43] \"POST / HTTP/1.1\" 200 -\n"
     ]
    },
    {
     "name": "stdout",
     "output_type": "stream",
     "text": [
      "{'ETag': '\"08aad250b4657784a2f1e2ee6a6edb13\"',\n",
      " 'ResponseMetadata': {'HTTPHeaders': {'content-length': '0',\n",
      "                                      'date': 'Tue, 08 Jan 2019 09:39:44 GMT',\n",
      "                                      'etag': '\"08aad250b4657784a2f1e2ee6a6edb13\"',\n",
      "                                      'server': 'AmazonS3',\n",
      "                                      'x-amz-id-2': 'GWIDd+FxV2XPaVbxEHgHDIXVWxjnHYBsnmyVEuNrqm7eLjd6a69QhVN6F75CB22SXvjedxuDe+o=',\n",
      "                                      'x-amz-request-id': '85584E4DF2B7A1A3'},\n",
      "                      'HTTPStatusCode': 200,\n",
      "                      'HostId': 'GWIDd+FxV2XPaVbxEHgHDIXVWxjnHYBsnmyVEuNrqm7eLjd6a69QhVN6F75CB22SXvjedxuDe+o=',\n",
      "                      'RequestId': '85584E4DF2B7A1A3',\n",
      "                      'RetryAttempts': 0}}\n",
      "=============上傳成功================\n"
     ]
    }
   ],
   "source": [
    "\"\"\"\n",
    "flask simple post\n",
    "用戶可以對Server丟post，\n",
    "Server會找出 欄位為nickname的值進行操作\n",
    "\"\"\"\n",
    "#引用套件\n",
    "from flask import Flask, request, abort, jsonify\n",
    "import boto3\n",
    "from pprint import pprint\n",
    "import os\n",
    "import shutil\n",
    "#flask這個應用的啟動點\n",
    "app = Flask(__name__,static_url_path = \"/images\" , static_folder = \"./images/\" )\n",
    "#為這個啟動點增加訪問路徑'/' ,使用post方法訪問\n",
    "@app.route('/',methods=['POST'])\n",
    "def hello_world():\n",
    "    t =request.get_json()\n",
    "    #取得用戶json的nickname,並且組成{'nickname':'xxxxxx'}\n",
    "    jsonDict = {'binghong':t.get('binghong','eat Chicken leg!!!!')}\n",
    "       \n",
    "    getbody = str(jsonDict)\n",
    "    # 開起一個檔案\n",
    "    missionFile = open('mission8.txt','w')\n",
    "    # 將資料寫入檔案\n",
    "    missionFile.write(getbody)\n",
    "    # 將檔案關閉\n",
    "    missionFile.close()\n",
    "    #上傳到S3中-----------------------------\n",
    "    #啟用s3客戶端\n",
    "    s3resource = boto3.resource('s3')\n",
    "    #使用s3客戶端上傳檔案(step1-s3-demo.txt)到s3的butket(iii-tutorial-v2下的student裡)裡\n",
    "    uploadObject = s3resource.Object('iii-tutorial-v2', 'student9/mission8.txt').put(Body=open('./mission8.txt', 'rb'))\n",
    "    pprint(uploadObject)\n",
    "    #瀏覽s3的butket(iii-tutorial-v2下的student9裡內的物件)\n",
    "    print(\"=============上傳成功================\")\n",
    "    return \"update ok\"\n",
    "if __name__ == \"__main__\":\n",
    "    app.run(host='0.0.0.0')\n"
   ]
  },
  {
   "cell_type": "code",
   "execution_count": null,
   "metadata": {},
   "outputs": [],
   "source": []
  },
  {
   "cell_type": "code",
   "execution_count": null,
   "metadata": {},
   "outputs": [],
   "source": []
  }
 ],
 "metadata": {
  "kernelspec": {
   "display_name": "Python 3",
   "language": "python",
   "name": "python3"
  },
  "language_info": {
   "codemirror_mode": {
    "name": "ipython",
    "version": 3
   },
   "file_extension": ".py",
   "mimetype": "text/x-python",
   "name": "python",
   "nbconvert_exporter": "python",
   "pygments_lexer": "ipython3",
   "version": "3.7.1"
  }
 },
 "nbformat": 4,
 "nbformat_minor": 2
}
